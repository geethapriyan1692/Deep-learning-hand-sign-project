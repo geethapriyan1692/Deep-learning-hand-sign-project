{
  "nbformat": 4,
  "nbformat_minor": 0,
  "metadata": {
    "colab": {
      "provenance": [],
      "gpuType": "T4"
    },
    "kernelspec": {
      "name": "python3",
      "display_name": "Python 3"
    },
    "language_info": {
      "name": "python"
    },
    "accelerator": "GPU"
  },
  "cells": [
    {
      "cell_type": "code",
      "source": [
        "from google.colab import drive\n",
        "drive.mount('/content/drive')"
      ],
      "metadata": {
        "colab": {
          "base_uri": "https://localhost:8080/"
        },
        "id": "kDcTDCbaesbk",
        "outputId": "ccae78f4-a9a1-4fbe-94ae-772ad01fa7ba"
      },
      "execution_count": null,
      "outputs": [
        {
          "output_type": "stream",
          "name": "stdout",
          "text": [
            "Drive already mounted at /content/drive; to attempt to forcibly remount, call drive.mount(\"/content/drive\", force_remount=True).\n"
          ]
        }
      ]
    },
    {
      "cell_type": "code",
      "execution_count": null,
      "metadata": {
        "colab": {
          "base_uri": "https://localhost:8080/"
        },
        "id": "IBwBJuqvynZN",
        "outputId": "2c7a95af-924e-4cda-b179-4a45cea2ee44"
      },
      "outputs": [
        {
          "output_type": "stream",
          "name": "stdout",
          "text": [
            "The directory '../input' does not exist.\n"
          ]
        }
      ],
      "source": [
        "import os\n",
        "import numpy as np\n",
        "import pandas as pd\n",
        "import matplotlib.pyplot as plt\n",
        "import warnings\n",
        "\n",
        "# filter warnings\n",
        "warnings.filterwarnings('ignore')\n",
        "\n",
        "# Define the directory path\n",
        "input_dir = \"../input\"\n",
        "\n",
        "# Check if the directory exists\n",
        "if os.path.exists(input_dir):\n",
        "    # List files in the directory\n",
        "    files = os.listdir(input_dir)\n",
        "    print(\"Files in the directory:\", files)\n",
        "else:\n",
        "    print(f\"The directory '{input_dir}' does not exist.\")\n"
      ]
    },
    {
      "cell_type": "code",
      "source": [
        "import numpy as np\n",
        "import matplotlib.pyplot as plt\n",
        "\n",
        "# Load the datasets\n",
        "x_l = np.load('/content/drive/MyDrive/deep  learning sign language/X.npy')\n",
        "Y_l = np.load('/content/drive/MyDrive/deep  learning sign language/Y.npy')\n",
        "\n",
        "# Check the shapes of the loaded arrays\n",
        "print(f\"Shape of x_l: {x_l.shape}\")\n",
        "print(f\"Shape of Y_l: {Y_l.shape}\")\n",
        "\n",
        "# Determine the expected shape\n",
        "expected_shape = (2062, 64, 64)\n",
        "\n",
        "# Check if the array can be reshaped into the expected shape\n",
        "if x_l.size == np.prod(expected_shape):\n",
        "    x_l = x_l.reshape(expected_shape)\n",
        "    img_size = 64\n",
        "    plt.subplot(1, 2, 1)\n",
        "    plt.imshow(x_l[260].reshape(img_size, img_size))\n",
        "    plt.axis('off')\n",
        "    plt.subplot(1, 2, 2)\n",
        "    plt.imshow(x_l[900].reshape(img_size, img_size))\n",
        "    plt.axis('off')\n",
        "    plt.show()\n",
        "else:\n",
        "    print(f\"Array cannot be reshaped into shape {expected_shape}. Current size: {x_l.size}\")\n"
      ],
      "metadata": {
        "id": "I44PuO9W5lsT"
      },
      "execution_count": null,
      "outputs": []
    },
    {
      "cell_type": "code",
      "source": [
        "import numpy as np\n",
        "\n",
        "# Replace 'your_file.npy' with the path to your .npy file\n",
        "file_path = '/content/drive/MyDrive/deep  learning sign language/X.npy'\n",
        "\n",
        "# Load the data from the .npy file\n",
        "images= np.load(file_path)\n",
        "\n",
        "# Print the data\n",
        "print(images)\n"
      ],
      "metadata": {
        "colab": {
          "base_uri": "https://localhost:8080/"
        },
        "id": "h1DmYz0sdlut",
        "outputId": "579fe05b-a145-419b-bc11-561143da1d09"
      },
      "execution_count": null,
      "outputs": [
        {
          "output_type": "stream",
          "name": "stdout",
          "text": [
            "[[[0.46666667 0.4745098  0.47843137 ... 0.5176471  0.5137255  0.5019608 ]\n",
            "  [0.49803922 0.4862745  0.4862745  ... 0.5254902  0.5176471  0.50980395]\n",
            "  [0.54509807 0.49411765 0.49019608 ... 0.5294118  0.5254902  0.5137255 ]\n",
            "  ...\n",
            "  [0.5019608  0.5137255  0.5176471  ... 0.5529412  0.54509807 0.53333336]\n",
            "  [0.49803922 0.5058824  0.5137255  ... 0.54509807 0.53333336 0.52156866]\n",
            "  [0.49019608 0.49803922 0.5019608  ... 0.5294118  0.52156866 0.50980395]]\n",
            "\n",
            " [[0.59607846 0.60784316 0.61960787 ... 0.4627451  0.4509804  0.44313726]\n",
            "  [0.60784316 0.61960787 0.6313726  ... 0.4745098  0.4627451  0.4509804 ]\n",
            "  [0.6156863  0.627451   0.6431373  ... 0.4862745  0.4745098  0.4627451 ]\n",
            "  ...\n",
            "  [0.50980395 0.5176471  0.5254902  ... 0.40392157 0.39607844 0.3882353 ]\n",
            "  [0.5019608  0.50980395 0.5176471  ... 0.4        0.39215687 0.38431373]\n",
            "  [0.49411765 0.5058824  0.50980395 ... 0.3882353  0.38039216 0.37254903]]\n",
            "\n",
            " [[0.5882353  0.6039216  0.61960787 ... 0.53333336 0.5137255  0.5019608 ]\n",
            "  [0.5921569  0.6117647  0.6156863  ... 0.5411765  0.52156866 0.50980395]\n",
            "  [0.5882353  0.61960787 0.627451   ... 0.54901963 0.5294118  0.5137255 ]\n",
            "  ...\n",
            "  [0.4745098  0.4862745  0.49411765 ... 0.42745098 0.41960785 0.40784314]\n",
            "  [0.47058824 0.47843137 0.4862745  ... 0.41568628 0.4117647  0.4       ]\n",
            "  [0.45882353 0.47058824 0.47843137 ... 0.40392157 0.4        0.3882353 ]]\n",
            "\n",
            " ...\n",
            "\n",
            " [[0.5254902  0.54509807 0.5568628  ... 0.49803922 0.49019608 0.4862745 ]\n",
            "  [0.5372549  0.5529412  0.5686275  ... 0.5019608  0.49803922 0.49019608]\n",
            "  [0.54509807 0.5568628  0.57254905 ... 0.5058824  0.49803922 0.49019608]\n",
            "  ...\n",
            "  [0.5058824  0.50980395 0.5137255  ... 0.4862745  0.47843137 0.47058824]\n",
            "  [0.49411765 0.5058824  0.50980395 ... 0.47843137 0.47058824 0.4627451 ]\n",
            "  [0.48235294 0.49411765 0.5058824  ... 0.47058824 0.4627451  0.45490196]]\n",
            "\n",
            " [[0.5137255  0.5254902  0.5372549  ... 0.45490196 0.44705883 0.43529412]\n",
            "  [0.5176471  0.53333336 0.54901963 ... 0.46666667 0.45882353 0.44705883]\n",
            "  [0.5254902  0.5411765  0.56078434 ... 0.4745098  0.4627451  0.4509804 ]\n",
            "  ...\n",
            "  [0.53333336 0.5411765  0.5529412  ... 0.54509807 0.5372549  0.5294118 ]\n",
            "  [0.52156866 0.53333336 0.54509807 ... 0.5372549  0.5294118  0.52156866]\n",
            "  [0.5137255  0.5254902  0.5372549  ... 0.5294118  0.5254902  0.5137255 ]]\n",
            "\n",
            " [[0.92941177 0.9372549  0.9372549  ... 0.9647059  0.972549   0.972549  ]\n",
            "  [0.92941177 0.93333334 0.93333334 ... 0.95686275 0.9607843  0.9647059 ]\n",
            "  [0.93333334 0.93333334 0.93333334 ... 0.9490196  0.9490196  0.9529412 ]\n",
            "  ...\n",
            "  [0.76862746 0.76862746 0.77254903 ... 0.73333335 0.74509805 0.68235296]\n",
            "  [0.7647059  0.7647059  0.76862746 ... 0.7254902  0.7372549  0.6784314 ]\n",
            "  [0.75686276 0.75686276 0.7607843  ... 0.72156864 0.73333335 0.67058825]]]\n"
          ]
        }
      ]
    },
    {
      "cell_type": "code",
      "source": [
        "# Check the shape of the array to understand its dimensions\n",
        "print(f\"Shape of the images array: {images.shape}\")"
      ],
      "metadata": {
        "colab": {
          "base_uri": "https://localhost:8080/"
        },
        "id": "q4me-b-FeyY-",
        "outputId": "43d4bc3e-384b-4dee-e135-fc25964dd892"
      },
      "execution_count": null,
      "outputs": [
        {
          "output_type": "stream",
          "name": "stdout",
          "text": [
            "Shape of the images array: (2062, 64, 64)\n"
          ]
        }
      ]
    },
    {
      "cell_type": "code",
      "source": [
        "# Iterate through and display each image\n",
        "for i in range(images.shape[0]):\n",
        "    plt.imshow(images[i], cmap='gray')  # Use cmap='gray' for grayscale images, omit it for color images\n",
        "    plt.title(f\"Image {i+1}\")\n",
        "    plt.axis('off')  # Turn off axis labels\n",
        "    plt.show()"
      ],
      "metadata": {
        "id": "_F9N7gOXfSwd"
      },
      "execution_count": null,
      "outputs": []
    },
    {
      "cell_type": "code",
      "source": [
        " print(x_l)"
      ],
      "metadata": {
        "colab": {
          "base_uri": "https://localhost:8080/"
        },
        "id": "rGB5ScFlSaQx",
        "outputId": "1c297260-8ecb-44b3-eda5-755f7729b216"
      },
      "execution_count": null,
      "outputs": [
        {
          "output_type": "stream",
          "name": "stdout",
          "text": [
            "[[[0.46666667 0.4745098  0.47843137 ... 0.5176471  0.5137255  0.5019608 ]\n",
            "  [0.49803922 0.4862745  0.4862745  ... 0.5254902  0.5176471  0.50980395]\n",
            "  [0.54509807 0.49411765 0.49019608 ... 0.5294118  0.5254902  0.5137255 ]\n",
            "  ...\n",
            "  [0.5019608  0.5137255  0.5176471  ... 0.5529412  0.54509807 0.53333336]\n",
            "  [0.49803922 0.5058824  0.5137255  ... 0.54509807 0.53333336 0.52156866]\n",
            "  [0.49019608 0.49803922 0.5019608  ... 0.5294118  0.52156866 0.50980395]]\n",
            "\n",
            " [[0.59607846 0.60784316 0.61960787 ... 0.4627451  0.4509804  0.44313726]\n",
            "  [0.60784316 0.61960787 0.6313726  ... 0.4745098  0.4627451  0.4509804 ]\n",
            "  [0.6156863  0.627451   0.6431373  ... 0.4862745  0.4745098  0.4627451 ]\n",
            "  ...\n",
            "  [0.50980395 0.5176471  0.5254902  ... 0.40392157 0.39607844 0.3882353 ]\n",
            "  [0.5019608  0.50980395 0.5176471  ... 0.4        0.39215687 0.38431373]\n",
            "  [0.49411765 0.5058824  0.50980395 ... 0.3882353  0.38039216 0.37254903]]\n",
            "\n",
            " [[0.5882353  0.6039216  0.61960787 ... 0.53333336 0.5137255  0.5019608 ]\n",
            "  [0.5921569  0.6117647  0.6156863  ... 0.5411765  0.52156866 0.50980395]\n",
            "  [0.5882353  0.61960787 0.627451   ... 0.54901963 0.5294118  0.5137255 ]\n",
            "  ...\n",
            "  [0.4745098  0.4862745  0.49411765 ... 0.42745098 0.41960785 0.40784314]\n",
            "  [0.47058824 0.47843137 0.4862745  ... 0.41568628 0.4117647  0.4       ]\n",
            "  [0.45882353 0.47058824 0.47843137 ... 0.40392157 0.4        0.3882353 ]]\n",
            "\n",
            " ...\n",
            "\n",
            " [[0.5254902  0.54509807 0.5568628  ... 0.49803922 0.49019608 0.4862745 ]\n",
            "  [0.5372549  0.5529412  0.5686275  ... 0.5019608  0.49803922 0.49019608]\n",
            "  [0.54509807 0.5568628  0.57254905 ... 0.5058824  0.49803922 0.49019608]\n",
            "  ...\n",
            "  [0.5058824  0.50980395 0.5137255  ... 0.4862745  0.47843137 0.47058824]\n",
            "  [0.49411765 0.5058824  0.50980395 ... 0.47843137 0.47058824 0.4627451 ]\n",
            "  [0.48235294 0.49411765 0.5058824  ... 0.47058824 0.4627451  0.45490196]]\n",
            "\n",
            " [[0.5137255  0.5254902  0.5372549  ... 0.45490196 0.44705883 0.43529412]\n",
            "  [0.5176471  0.53333336 0.54901963 ... 0.46666667 0.45882353 0.44705883]\n",
            "  [0.5254902  0.5411765  0.56078434 ... 0.4745098  0.4627451  0.4509804 ]\n",
            "  ...\n",
            "  [0.53333336 0.5411765  0.5529412  ... 0.54509807 0.5372549  0.5294118 ]\n",
            "  [0.52156866 0.53333336 0.54509807 ... 0.5372549  0.5294118  0.52156866]\n",
            "  [0.5137255  0.5254902  0.5372549  ... 0.5294118  0.5254902  0.5137255 ]]\n",
            "\n",
            " [[0.92941177 0.9372549  0.9372549  ... 0.9647059  0.972549   0.972549  ]\n",
            "  [0.92941177 0.93333334 0.93333334 ... 0.95686275 0.9607843  0.9647059 ]\n",
            "  [0.93333334 0.93333334 0.93333334 ... 0.9490196  0.9490196  0.9529412 ]\n",
            "  ...\n",
            "  [0.76862746 0.76862746 0.77254903 ... 0.73333335 0.74509805 0.68235296]\n",
            "  [0.7647059  0.7647059  0.76862746 ... 0.7254902  0.7372549  0.6784314 ]\n",
            "  [0.75686276 0.75686276 0.7607843  ... 0.72156864 0.73333335 0.67058825]]]\n"
          ]
        }
      ]
    },
    {
      "cell_type": "code",
      "source": [
        "print(Y_l)"
      ],
      "metadata": {
        "colab": {
          "base_uri": "https://localhost:8080/"
        },
        "id": "gxHmIIJrY7Gj",
        "outputId": "f52e3241-c2ef-44f1-961c-972fae9d25dd"
      },
      "execution_count": null,
      "outputs": [
        {
          "output_type": "stream",
          "name": "stdout",
          "text": [
            "[[1. 0. 0. ... 0. 0. 0.]\n",
            " [1. 0. 0. ... 0. 0. 0.]\n",
            " [1. 0. 0. ... 0. 0. 0.]\n",
            " ...\n",
            " [0. 0. 0. ... 0. 0. 1.]\n",
            " [0. 0. 0. ... 0. 0. 1.]\n",
            " [0. 0. 0. ... 0. 0. 1.]]\n"
          ]
        }
      ]
    },
    {
      "cell_type": "code",
      "source": [
        "import matplotlib.pyplot as plt"
      ],
      "metadata": {
        "id": "ikCeNVaVjMPc"
      },
      "execution_count": null,
      "outputs": []
    },
    {
      "cell_type": "code",
      "source": [
        "### Data preprocessing\n",
        "\n",
        "img_size = 64\n",
        "plt.subplot(2, 6, 1)\n",
        "plt.imshow(x_l[260].reshape(img_size, img_size))\n",
        "plt.axis('off')\n",
        "plt.subplot(2, 6, 2)\n",
        "plt.imshow(x_l[900].reshape(img_size, img_size))\n",
        "plt.axis('off')\n",
        "plt.subplot(2, 6, 3)\n",
        "plt.imshow(x_l[260].reshape(img_size, img_size))\n",
        "plt.axis('off')\n",
        "plt.subplot(2, 6, 4)\n",
        "plt.imshow(x_l[900].reshape(img_size, img_size))\n",
        "plt.axis('off')\n",
        "plt.subplot(2, 6, 5)\n",
        "plt.imshow(x_l[260].reshape(img_size, img_size))\n",
        "plt.axis('off')\n",
        "plt.subplot(2, 6, 6)\n",
        "plt.imshow(x_l[900].reshape(img_size, img_size))\n",
        "plt.axis('off')\n",
        "plt.subplot(2, 6, 7)\n",
        "plt.imshow(x_l[260].reshape(img_size, img_size))\n",
        "plt.axis('off')\n",
        "plt.subplot(2, 6, 8)\n",
        "plt.imshow(x_l[900].reshape(img_size, img_size))\n",
        "plt.axis('off')\n",
        "plt.subplot(2, 6, 9)\n",
        "plt.imshow(x_l[900].reshape(img_size, img_size))\n",
        "plt.axis('off')"
      ],
      "metadata": {
        "id": "1eJvd2fmV_HA"
      },
      "execution_count": null,
      "outputs": []
    },
    {
      "cell_type": "code",
      "source": [
        "##Normalization: Normalize the pixel values (e.g., divide by 255 if pixel values range from 0 to 255)"
      ],
      "metadata": {
        "id": "EoDiqmcspTQE"
      },
      "execution_count": null,
      "outputs": []
    },
    {
      "cell_type": "code",
      "source": [
        "from sklearn.model_selection import train_test_split\n",
        "from tensorflow.keras.utils import to_categorical\n",
        "\n",
        "# Normalize images\n",
        "images = images.astype('float32') / 255.0\n",
        "\n",
        "# Split data (Assuming `labels` is available)\n",
        "X_train, X_test, y_train, y_test = train_test_split(x_l,Y_l, test_size=0.2, random_state=42)\n"
      ],
      "metadata": {
        "id": "IutMgx83pX-J"
      },
      "execution_count": null,
      "outputs": []
    },
    {
      "cell_type": "markdown",
      "source": [
        "4. Define the Deep Learning Model\n",
        "Choose a model architecture that fits your task. For image classification, common models include CNNs (Convolutional Neural Networks) like VGG16, ResNet, or a simple custom CNN.\n",
        "Use frameworks like TensorFlow or PyTorch"
      ],
      "metadata": {
        "id": "WndV5PAYqYht"
      }
    },
    {
      "cell_type": "code",
      "source": [
        "from tensorflow.keras.layers import Conv2D, MaxPool2D, Dropout, Flatten, Dense, BatchNormalization, GlobalAvgPool2D\n",
        "from tensorflow.keras.models import Sequential\n",
        "from tensorflow.keras.preprocessing.image import ImageDataGenerator\n",
        "import tensorflow as tf\n",
        "\n",
        "\n",
        "\n"
      ],
      "metadata": {
        "id": "obdMUE7oqV14"
      },
      "execution_count": null,
      "outputs": []
    },
    {
      "cell_type": "code",
      "source": [
        "model = tf.keras.models.Sequential([\n",
        "   tf.keras.layers.Conv2D(32, (3, 3), activation='relu', input_shape=(64,64,1)),\n",
        "    tf.keras.layers.MaxPooling2D((2, 2)),\n",
        "    tf.keras.layers.Conv2D(64, (3, 3), activation='relu'),\n",
        "    tf.keras.layers.MaxPooling2D((2, 2)),\n",
        "    tf.keras.layers.Conv2D(128, (3, 3), activation='relu'),\n",
        "    tf.keras.layers.MaxPooling2D((2, 2)),\n",
        "    tf.keras.layers.Flatten(),\n",
        "    tf.keras.layers.Dense(128, activation='relu'),\n",
        "    tf.keras.layers.Dense(10, activation='softmax')\n",
        "])\n"
      ],
      "metadata": {
        "id": "c2mZG3jbrIn8"
      },
      "execution_count": null,
      "outputs": []
    },
    {
      "cell_type": "code",
      "source": [
        "### model compilation\n",
        "model.compile(optimizer='adam', loss='categorical_crossentropy', metrics=['accuracy'])"
      ],
      "metadata": {
        "id": "6s0ThKDvxSdg"
      },
      "execution_count": null,
      "outputs": []
    },
    {
      "cell_type": "code",
      "source": [
        "# Train the model\n",
        "history = model.fit(X_train, y_train, epochs=12, validation_data=(X_test, y_test))"
      ],
      "metadata": {
        "colab": {
          "base_uri": "https://localhost:8080/"
        },
        "id": "xwsfZit7xq-T",
        "outputId": "5ac1df99-8a13-4c45-bb90-8e08b13f11b2"
      },
      "execution_count": null,
      "outputs": [
        {
          "output_type": "stream",
          "name": "stdout",
          "text": [
            "Epoch 1/12\n",
            "\u001b[1m52/52\u001b[0m \u001b[32m━━━━━━━━━━━━━━━━━━━━\u001b[0m\u001b[37m\u001b[0m \u001b[1m0s\u001b[0m 8ms/step - accuracy: 0.9907 - loss: 0.0304 - val_accuracy: 0.9395 - val_loss: 0.2277\n",
            "Epoch 2/12\n",
            "\u001b[1m52/52\u001b[0m \u001b[32m━━━━━━━━━━━━━━━━━━━━\u001b[0m\u001b[37m\u001b[0m \u001b[1m1s\u001b[0m 6ms/step - accuracy: 0.9910 - loss: 0.0329 - val_accuracy: 0.9540 - val_loss: 0.1763\n",
            "Epoch 3/12\n",
            "\u001b[1m52/52\u001b[0m \u001b[32m━━━━━━━━━━━━━━━━━━━━\u001b[0m\u001b[37m\u001b[0m \u001b[1m1s\u001b[0m 5ms/step - accuracy: 0.9981 - loss: 0.0193 - val_accuracy: 0.9370 - val_loss: 0.1966\n",
            "Epoch 4/12\n",
            "\u001b[1m52/52\u001b[0m \u001b[32m━━━━━━━━━━━━━━━━━━━━\u001b[0m\u001b[37m\u001b[0m \u001b[1m0s\u001b[0m 7ms/step - accuracy: 0.9993 - loss: 0.0072 - val_accuracy: 0.9467 - val_loss: 0.1689\n",
            "Epoch 5/12\n",
            "\u001b[1m52/52\u001b[0m \u001b[32m━━━━━━━━━━━━━━━━━━━━\u001b[0m\u001b[37m\u001b[0m \u001b[1m1s\u001b[0m 7ms/step - accuracy: 1.0000 - loss: 0.0052 - val_accuracy: 0.9540 - val_loss: 0.1534\n",
            "Epoch 6/12\n",
            "\u001b[1m52/52\u001b[0m \u001b[32m━━━━━━━━━━━━━━━━━━━━\u001b[0m\u001b[37m\u001b[0m \u001b[1m1s\u001b[0m 7ms/step - accuracy: 1.0000 - loss: 0.0014 - val_accuracy: 0.9516 - val_loss: 0.1527\n",
            "Epoch 7/12\n",
            "\u001b[1m52/52\u001b[0m \u001b[32m━━━━━━━━━━━━━━━━━━━━\u001b[0m\u001b[37m\u001b[0m \u001b[1m1s\u001b[0m 7ms/step - accuracy: 1.0000 - loss: 0.0012 - val_accuracy: 0.9540 - val_loss: 0.1594\n",
            "Epoch 8/12\n",
            "\u001b[1m52/52\u001b[0m \u001b[32m━━━━━━━━━━━━━━━━━━━━\u001b[0m\u001b[37m\u001b[0m \u001b[1m0s\u001b[0m 7ms/step - accuracy: 1.0000 - loss: 8.4862e-04 - val_accuracy: 0.9540 - val_loss: 0.1644\n",
            "Epoch 9/12\n",
            "\u001b[1m52/52\u001b[0m \u001b[32m━━━━━━━━━━━━━━━━━━━━\u001b[0m\u001b[37m\u001b[0m \u001b[1m1s\u001b[0m 6ms/step - accuracy: 1.0000 - loss: 7.0575e-04 - val_accuracy: 0.9492 - val_loss: 0.1625\n",
            "Epoch 10/12\n",
            "\u001b[1m52/52\u001b[0m \u001b[32m━━━━━━━━━━━━━━━━━━━━\u001b[0m\u001b[37m\u001b[0m \u001b[1m1s\u001b[0m 5ms/step - accuracy: 1.0000 - loss: 5.9249e-04 - val_accuracy: 0.9516 - val_loss: 0.1667\n",
            "Epoch 11/12\n",
            "\u001b[1m52/52\u001b[0m \u001b[32m━━━━━━━━━━━━━━━━━━━━\u001b[0m\u001b[37m\u001b[0m \u001b[1m0s\u001b[0m 6ms/step - accuracy: 1.0000 - loss: 5.6593e-04 - val_accuracy: 0.9540 - val_loss: 0.1667\n",
            "Epoch 12/12\n",
            "\u001b[1m52/52\u001b[0m \u001b[32m━━━━━━━━━━━━━━━━━━━━\u001b[0m\u001b[37m\u001b[0m \u001b[1m1s\u001b[0m 6ms/step - accuracy: 1.0000 - loss: 4.7214e-04 - val_accuracy: 0.9516 - val_loss: 0.1714\n"
          ]
        }
      ]
    },
    {
      "cell_type": "code",
      "source": [
        "# Evaluate the model on the test set\n",
        "test_loss, test_acc = model.evaluate(X_test, y_test)\n",
        "print(f\"Test accuracy: {test_acc}\")"
      ],
      "metadata": {
        "colab": {
          "base_uri": "https://localhost:8080/"
        },
        "id": "xqIDkvd-yWjB",
        "outputId": "5a991ff5-6061-4bd3-9434-ddd47d85ba61"
      },
      "execution_count": null,
      "outputs": [
        {
          "output_type": "stream",
          "name": "stdout",
          "text": [
            "\u001b[1m13/13\u001b[0m \u001b[32m━━━━━━━━━━━━━━━━━━━━\u001b[0m\u001b[37m\u001b[0m \u001b[1m0s\u001b[0m 3ms/step - accuracy: 0.9400 - loss: 0.1766 \n",
            "Test accuracy: 0.9515738487243652\n"
          ]
        }
      ]
    },
    {
      "cell_type": "code",
      "source": [
        "# Plot training & validation accuracy values\n",
        "plt.plot(history.history['accuracy'])\n",
        "plt.plot(history.history['val_accuracy'])\n",
        "plt.title('Model accuracy')\n",
        "plt.xlabel('Epoch')\n",
        "plt.ylabel('Accuracy')\n",
        "plt.legend(['Train', 'Test'], loc='upper left')\n",
        "plt.show()"
      ],
      "metadata": {
        "colab": {
          "base_uri": "https://localhost:8080/",
          "height": 472
        },
        "id": "dnFfIeCRykIg",
        "outputId": "c1fabcb0-e9fc-40d4-c017-5e09bf79151a"
      },
      "execution_count": null,
      "outputs": [
        {
          "output_type": "display_data",
          "data": {
            "text/plain": [
              "<Figure size 640x480 with 1 Axes>"
            ],
            "image/png": "[encoded data removed]"
          },
          "metadata": {}
        }
      ]
    },
    {
      "cell_type": "code",
      "source": [
        "# Plot training & validation loss values\n",
        "plt.plot(history.history['loss'])\n",
        "plt.plot(history.history['val_loss'])\n",
        "plt.title('Model loss')\n",
        "plt.xlabel('Epoch')\n",
        "plt.ylabel('Loss')\n",
        "plt.legend(['Train', 'Test'], loc='upper left')\n",
        "plt.show()"
      ],
      "metadata": {
        "colab": {
          "base_uri": "https://localhost:8080/",
          "height": 472
        },
        "id": "Vj3nRAxays1x",
        "outputId": "c81f3eb7-40e9-4236-d25e-2fa73041432d"
      },
      "execution_count": null,
      "outputs": [
        {
          "output_type": "display_data",
          "data": {
            "text/plain": [
              "<Figure size 640x480 with 1 Axes>"
            ],
            "image/png": "[encoded data removed]"
          },
          "metadata": {}
        }
      ]
    }
  ]
}